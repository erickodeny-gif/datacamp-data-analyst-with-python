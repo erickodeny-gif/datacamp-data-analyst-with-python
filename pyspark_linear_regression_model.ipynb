{
  "nbformat": 4,
  "nbformat_minor": 0,
  "metadata": {
    "colab": {
      "provenance": [],
      "authorship_tag": "ABX9TyPjjqqAh99DsRwSQO4RnpG7",
      "include_colab_link": true
    },
    "kernelspec": {
      "name": "python3",
      "display_name": "Python 3"
    },
    "language_info": {
      "name": "python"
    }
  },
  "cells": [
    {
      "cell_type": "markdown",
      "metadata": {
        "id": "view-in-github",
        "colab_type": "text"
      },
      "source": [
        "<a href=\"https://colab.research.google.com/github/erickodeny-gif/datacamp-data-analyst-with-python/blob/master/pyspark_linear_regression_model.ipynb\" target=\"_parent\"><img src=\"https://colab.research.google.com/assets/colab-badge.svg\" alt=\"Open In Colab\"/></a>"
      ]
    },
    {
      "cell_type": "code",
      "execution_count": null,
      "metadata": {
        "id": "qM7fZO213M8V"
      },
      "outputs": [],
      "source": [
        "from pyspark.sql import SparkSession\n",
        "from pyspark.ml.feature import VectorAssembler\n",
        "from pyspark.ml.regression import LinearRegression\n",
        "from pyspark.ml.evaluation import RegressionEvaluator\n"
      ]
    },
    {
      "cell_type": "code",
      "source": [
        "\n",
        "# Initialize Spark session\n",
        "spark = SparkSession.builder.appName(\"WineQualityRegression\").getOrCreate()"
      ],
      "metadata": {
        "id": "rDvIYG-L3fmk"
      },
      "execution_count": null,
      "outputs": []
    },
    {
      "cell_type": "code",
      "source": [
        "\n",
        "# Load the CSV file\n",
        "data = spark.read.csv(\"winequality-red.csv\", header=True, inferSchema=True, sep=\",\")"
      ],
      "metadata": {
        "id": "Q_P4oi-y35h9"
      },
      "execution_count": null,
      "outputs": []
    },
    {
      "cell_type": "code",
      "source": [
        "# Check for missing values\n",
        "data = data.na.drop()\n"
      ],
      "metadata": {
        "id": "V0EvU7Ev4N51"
      },
      "execution_count": null,
      "outputs": []
    },
    {
      "cell_type": "code",
      "source": [
        "\n",
        "# Define feature columns (all columns except 'quality')\n",
        "feature_columns = [col for col in data.columns if col != 'quality']\n"
      ],
      "metadata": {
        "id": "anGPzyiq4dPl"
      },
      "execution_count": null,
      "outputs": []
    },
    {
      "cell_type": "code",
      "source": [
        "# Create feature vector\n",
        "assembler = VectorAssembler(inputCols=feature_columns, outputCol=\"features\")\n",
        "# Drop the 'features' column if it already exists before transforming\n",
        "if \"features\" in data.columns:\n",
        "    data = data.drop(\"features\")\n",
        "data = assembler.transform(data)"
      ],
      "metadata": {
        "id": "l1cp6vVz41Ar"
      },
      "execution_count": null,
      "outputs": []
    },
    {
      "cell_type": "code",
      "source": [
        "# Select features and target\n",
        "final_data = data.select(\"features\", \"quality\")\n"
      ],
      "metadata": {
        "id": "Y6F9xqhX47Ij"
      },
      "execution_count": null,
      "outputs": []
    },
    {
      "cell_type": "code",
      "source": [
        "\n",
        "\n",
        "# Split data into training and test sets\n",
        "train_data, test_data = final_data.randomSplit([0.8, 0.2], seed=42)\n"
      ],
      "metadata": {
        "id": "edLvjCw95HkE"
      },
      "execution_count": null,
      "outputs": []
    },
    {
      "cell_type": "code",
      "source": [
        "\n",
        "# Initialize and train the linear regression model\n",
        "lr = LinearRegression(featuresCol=\"features\", labelCol=\"quality\")\n",
        "lr_model = lr.fit(train_data)\n"
      ],
      "metadata": {
        "id": "B35qYUVX5WWE"
      },
      "execution_count": null,
      "outputs": []
    },
    {
      "cell_type": "code",
      "source": [
        "# Make predictions on test data\n",
        "predictions = lr_model.transform(test_data)\n"
      ],
      "metadata": {
        "id": "6ZZZ4BN45kBL"
      },
      "execution_count": null,
      "outputs": []
    },
    {
      "cell_type": "code",
      "source": [
        "# Evaluate the model\n",
        "rmse_evaluator = RegressionEvaluator(labelCol=\"quality\", predictionCol=\"prediction\", metricName=\"rmse\")\n",
        "r2_evaluator = RegressionEvaluator(labelCol=\"quality\", predictionCol=\"prediction\", metricName=\"r2\")\n",
        "\n",
        "rmse = rmse_evaluator.evaluate(predictions)\n",
        "r2 = r2_evaluator.evaluate(predictions)\n"
      ],
      "metadata": {
        "id": "upBkyidL5sAD"
      },
      "execution_count": null,
      "outputs": []
    },
    {
      "cell_type": "code",
      "source": [
        "\n",
        "# Print results\n",
        "print(f\"Root Mean Squared Error (RMSE): {rmse:.4f}\")\n",
        "print(f\"R-squared (R2): {r2:.4f}\")\n"
      ],
      "metadata": {
        "colab": {
          "base_uri": "https://localhost:8080/"
        },
        "id": "-hscizuB5y7r",
        "outputId": "4266af11-a66a-4978-8cb9-f3276f97a71e"
      },
      "execution_count": null,
      "outputs": [
        {
          "output_type": "stream",
          "name": "stdout",
          "text": [
            "Root Mean Squared Error (RMSE): 0.6747\n",
            "R-squared (R2): 0.3496\n"
          ]
        }
      ]
    },
    {
      "cell_type": "code",
      "source": [
        "# Print model coefficients\n",
        "print(\"\\nModel Coefficients:\")\n",
        "for feature, coef in zip(feature_columns, lr_model.coefficients):\n",
        "    print(f\"{feature}: {coef:.4f}\")\n",
        "print(f\"Intercept: {lr_model.intercept:.4f}\")\n"
      ],
      "metadata": {
        "colab": {
          "base_uri": "https://localhost:8080/"
        },
        "id": "zL_D4MB2542r",
        "outputId": "dee6b680-95a4-456f-948f-b190fcddb915"
      },
      "execution_count": null,
      "outputs": [
        {
          "output_type": "stream",
          "name": "stdout",
          "text": [
            "\n",
            "Model Coefficients:\n",
            "fixed acidity: 0.0394\n",
            "volatile acidity: -1.0257\n",
            "citric acid: -0.2147\n",
            "residual sugar: 0.0088\n",
            "chlorides: -1.5606\n",
            "free sulfur dioxide: 0.0058\n",
            "total sulfur dioxide: -0.0032\n",
            "density: -15.6626\n",
            "pH: -0.3384\n",
            "sulphates: 0.9071\n",
            "alcohol: 0.2881\n",
            "Intercept: 19.2050\n"
          ]
        }
      ]
    },
    {
      "cell_type": "code",
      "source": [
        "\n",
        "# Stop the Spark session\n",
        "spark.stop()"
      ],
      "metadata": {
        "id": "X45c6r8R6DVD"
      },
      "execution_count": null,
      "outputs": []
    }
  ]
}